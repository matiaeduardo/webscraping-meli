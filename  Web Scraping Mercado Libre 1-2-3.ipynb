{
 "cells": [
  {
   "cell_type": "code",
   "execution_count": 1,
   "id": "2d58bb0f",
   "metadata": {},
   "outputs": [],
   "source": [
    "from bs4 import BeautifulSoup as bs\n",
    "import requests\n",
    "import pandas as pd\n",
    "from lxml import etree"
   ]
  },
  {
   "cell_type": "code",
   "execution_count": 2,
   "id": "c85f42b3",
   "metadata": {},
   "outputs": [],
   "source": [
    "#crear url con request\n",
    "prod='celular'\n",
    "url='https://listado.mercadolibre.com.ar/'+prod\n",
    "r=requests.get(url)"
   ]
  },
  {
   "cell_type": "code",
   "execution_count": 3,
   "id": "99960916",
   "metadata": {},
   "outputs": [
    {
     "data": {
      "text/plain": [
       "200"
      ]
     },
     "execution_count": 3,
     "metadata": {},
     "output_type": "execute_result"
    }
   ],
   "source": [
    "#validar el status\n",
    "r.status_code"
   ]
  },
  {
   "cell_type": "code",
   "execution_count": 4,
   "id": "8224c297",
   "metadata": {},
   "outputs": [],
   "source": [
    "#crear sopa\n",
    "soup=bs(r.content,'html.parser')"
   ]
  },
  {
   "cell_type": "code",
   "execution_count": 5,
   "id": "2cbfd1db",
   "metadata": {
    "collapsed": true,
    "jupyter": {
     "outputs_hidden": true
    },
    "tags": []
   },
   "outputs": [
    {
     "data": {
      "text/plain": [
       "['Sky Devices F2 G Dual SIM 32 MB  green 32 MB RAM',\n",
       " 'Samsung Galaxy A03 128 GB  negro 4 GB RAM',\n",
       " 'Celular Samsung Galaxy A13 128gb + 4gb Ram Pls Lcd Negro',\n",
       " 'Samsung Galaxy A03 32 GB  azul 3 GB RAM',\n",
       " 'Samsung Galaxy A13 64 GB  black 4 GB RAM']"
      ]
     },
     "execution_count": 5,
     "metadata": {},
     "output_type": "execute_result"
    }
   ],
   "source": [
    "#rascar titulos url precios(lxml)\n",
    "titles=soup.find_all('h2',attrs={'class':'ui-search-item__title shops__item-title'})\n",
    "titles=[i.text for i in titles]\n",
    "titles[:5]"
   ]
  },
  {
   "cell_type": "code",
   "execution_count": 6,
   "id": "40c6ec5c",
   "metadata": {
    "collapsed": true,
    "jupyter": {
     "outputs_hidden": true
    },
    "tags": []
   },
   "outputs": [
    {
     "data": {
      "text/plain": [
       "['https://www.mercadolibre.com.ar/sky-devices-f2-g-dual-sim-32-mb-green-32-mb-ram/p/MLA18619418?pdp_filters=category:MLA1055#searchVariation=MLA18619418&position=1&search_layout=stack&type=product&tracking_id=f170877a-02fc-429e-a0ac-495157850d7d',\n",
       " 'https://www.mercadolibre.com.ar/samsung-galaxy-a03-128-gb-negro-4-gb-ram/p/MLA18955028?pdp_filters=category:MLA1055#searchVariation=MLA18955028&position=2&search_layout=stack&type=product&tracking_id=f170877a-02fc-429e-a0ac-495157850d7d',\n",
       " 'https://www.mercadolibre.com.ar/celular-samsung-galaxy-a13-128gb-4gb-ram-pls-lcd-negro/p/MLA19147042?pdp_filters=category:MLA1055#searchVariation=MLA19147042&position=3&search_layout=stack&type=product&tracking_id=f170877a-02fc-429e-a0ac-495157850d7d',\n",
       " 'https://www.mercadolibre.com.ar/samsung-galaxy-a03-32-gb-azul-3-gb-ram/p/MLA18955021?pdp_filters=category:MLA1055#searchVariation=MLA18955021&position=4&search_layout=stack&type=product&tracking_id=f170877a-02fc-429e-a0ac-495157850d7d',\n",
       " 'https://www.mercadolibre.com.ar/samsung-galaxy-a13-64-gb-black-4-gb-ram/p/MLA19077059?pdp_filters=category:MLA1055#searchVariation=MLA19077059&position=5&search_layout=stack&type=product&tracking_id=f170877a-02fc-429e-a0ac-495157850d7d']"
      ]
     },
     "execution_count": 6,
     "metadata": {},
     "output_type": "execute_result"
    }
   ],
   "source": [
    "urls=soup.find_all('a',attrs={'class':'ui-search-item__group__element shops__items-group-details ui-search-link'})\n",
    "urls=[i.get('href') for i in urls]\n",
    "urls[:5]"
   ]
  },
  {
   "cell_type": "code",
   "execution_count": 8,
   "id": "b6f8de27",
   "metadata": {
    "collapsed": true,
    "jupyter": {
     "outputs_hidden": true
    },
    "tags": []
   },
   "outputs": [
    {
     "data": {
      "text/plain": [
       "['6.398',\n",
       " '49.999',\n",
       " '64.999',\n",
       " '39.999',\n",
       " '49.999',\n",
       " '45.999',\n",
       " '14.999',\n",
       " '44.999',\n",
       " '62.999',\n",
       " '73.999',\n",
       " '99.999',\n",
       " '47.999',\n",
       " '77.999',\n",
       " '119.999',\n",
       " '69.299',\n",
       " '159.999',\n",
       " '62.078',\n",
       " '53.899',\n",
       " '61.999',\n",
       " '74.199',\n",
       " '42.610',\n",
       " '362.999',\n",
       " '41.999',\n",
       " '189.999',\n",
       " '129.189',\n",
       " '124.999',\n",
       " '17.599',\n",
       " '64.999',\n",
       " '189.999',\n",
       " '89.999',\n",
       " '31.999',\n",
       " '8.474',\n",
       " '59.149',\n",
       " '19.200',\n",
       " '62.999',\n",
       " '78.759',\n",
       " '102.999',\n",
       " '80.999',\n",
       " '155.499',\n",
       " '79.999',\n",
       " '226.063',\n",
       " '24.799',\n",
       " '29.349',\n",
       " '20.299',\n",
       " '118.999',\n",
       " '29.999',\n",
       " '41.999',\n",
       " '24.999',\n",
       " '141.500',\n",
       " '22.999']"
      ]
     },
     "execution_count": 8,
     "metadata": {},
     "output_type": "execute_result"
    }
   ],
   "source": [
    "#con lxml\n",
    "#dom=etree.HTML(str(soup))\n",
    "#precios=dom.xpath(\"//li[@class='ui-search-layout__item shops__layout-item']//div[@class='ui-search-price__second-line shops__price-second-line']/span/span[2]/span[2]\")\n",
    "#precios=[i.text for i in precios]\n",
    "#precios"
   ]
  },
  {
   "cell_type": "code",
   "execution_count": 36,
   "id": "68e275d6",
   "metadata": {},
   "outputs": [],
   "source": [
    "#df=pd.DataFrame({'Producto':titles,'Precio':precios,'URL':urls})"
   ]
  },
  {
   "cell_type": "code",
   "execution_count": 38,
   "id": "97e03abd",
   "metadata": {},
   "outputs": [],
   "source": [
    "#df.to_csv('ProductosMercadoLibre.csv')"
   ]
  },
  {
   "cell_type": "code",
   "execution_count": 18,
   "id": "7a7fb4d3",
   "metadata": {},
   "outputs": [],
   "source": [
    "sig=dom.xpath(\"//div[@class='ui-search-pagination shops__pagination-content']/ul/li[contains(@class,'--next')]/a\")[0].get('href')               "
   ]
  },
  {
   "cell_type": "code",
   "execution_count": 12,
   "id": "cfe1d4d3",
   "metadata": {},
   "outputs": [
    {
     "data": {
      "text/plain": [
       "'40'"
      ]
     },
     "execution_count": 12,
     "metadata": {},
     "output_type": "execute_result"
    }
   ],
   "source": [
    "indice=soup.find('span',attrs={'class':'andes-pagination__link'}).text\n",
    "#indice=int(indice)\n",
    "indice"
   ]
  },
  {
   "cell_type": "code",
   "execution_count": 11,
   "id": "9880a41e",
   "metadata": {},
   "outputs": [
    {
     "data": {
      "text/plain": [
       "<li class=\"andes-pagination__page-count\">de <!-- -->40</li>"
      ]
     },
     "execution_count": 11,
     "metadata": {},
     "output_type": "execute_result"
    }
   ],
   "source": [
    "indice2=soup.find('li',attrs={'class':'andes-pagination__page-count'})\n",
    "#indice2=int(indice2.text.split(' ')[1])\n",
    "indice2"
   ]
  },
  {
   "cell_type": "code",
   "execution_count": 2,
   "id": "338f32eb",
   "metadata": {},
   "outputs": [
    {
     "name": "stdout",
     "output_type": "stream",
     "text": [
      "0 0 0\n"
     ]
    }
   ],
   "source": [
    "t_lista=[]\n",
    "u_lista=[]\n",
    "p_lista=[]"
   ]
  },
  {
   "cell_type": "code",
   "execution_count": 3,
   "id": "9a69e875",
   "metadata": {},
   "outputs": [
    {
     "name": "stdout",
     "output_type": "stream",
     "text": [
      "1 40\n",
      "2 40\n",
      "3 40\n",
      "4 40\n",
      "5 40\n",
      "6 40\n",
      "7 40\n",
      "8 40\n",
      "9 40\n",
      "10 40\n",
      "11 40\n",
      "12 40\n",
      "13 40\n",
      "14 40\n",
      "15 40\n",
      "16 40\n",
      "17 40\n",
      "18 40\n",
      "19 40\n",
      "20 40\n",
      "21 40\n",
      "22 40\n",
      "23 40\n",
      "24 40\n",
      "25 40\n",
      "26 40\n",
      "27 40\n",
      "28 40\n",
      "29 40\n",
      "30 40\n",
      "31 40\n",
      "32 40\n",
      "33 40\n",
      "34 40\n",
      "35 40\n",
      "36 40\n",
      "37 40\n",
      "38 40\n",
      "39 40\n",
      "40 40\n"
     ]
    }
   ],
   "source": [
    "sig='https://listado.mercadolibre.com.ar/celular'\n",
    "while True:\n",
    "    r=requests.get(sig)\n",
    "    if r.status_code==200:\n",
    "        soup=bs(r.content,'html.parser')\n",
    "        #nombres\n",
    "        titles=soup.find_all('h2',attrs={'class':'ui-search-item__title shops__item-title'})\n",
    "        titles=[i.text for i in titles]\n",
    "        t_lista.extend(titles)\n",
    "        #urls\n",
    "        urls=soup.find_all('a',attrs={'class':'ui-search-item__group__element shops__items-group-details ui-search-link'})\n",
    "        urls=[i.get('href') for i in urls]\n",
    "        u_lista.extend(urls)\n",
    "        #precios\n",
    "        dom=etree.HTML(str(soup))\n",
    "        precios=dom.xpath(\"//li[@class='ui-search-layout__item shops__layout-item']//div[@class='ui-search-price__second-line shops__price-second-line']/span/span[2]/span[2]\")\n",
    "        precios=[i.text for i in precios]\n",
    "        p_lista.extend(precios)\n",
    "        #indices\n",
    "        indice=soup.find('span',attrs={'class':'andes-pagination__link'}).text\n",
    "        indice=int(indice)\n",
    "        indice2=soup.find('li',attrs={'class':'andes-pagination__page-count'})\n",
    "        indice2=int(indice2.text.split(' ')[1])\n",
    "    else:\n",
    "        break\n",
    "    print(indice,indice2)\n",
    "    if indice==indice2:\n",
    "        break\n",
    "    sig=dom.xpath(\"//div[@class='ui-search-pagination shops__pagination-content']/ul/li[contains(@class,'--next')]/a\")[0].get('href')    \n",
    "        "
   ]
  },
  {
   "cell_type": "code",
   "execution_count": 4,
   "id": "7a32217a",
   "metadata": {},
   "outputs": [
    {
     "name": "stdout",
     "output_type": "stream",
     "text": [
      "2024 2024 2024\n"
     ]
    }
   ],
   "source": [
    "print(len(t_lista),len(u_lista),len(p_lista))"
   ]
  },
  {
   "cell_type": "code",
   "execution_count": 6,
   "id": "f44ed657",
   "metadata": {},
   "outputs": [],
   "source": [
    "df_=pd.DataFrame({'Producto':t_lista,'Precio':p_lista,'Url':u_lista})"
   ]
  },
  {
   "cell_type": "code",
   "execution_count": 8,
   "id": "6e284cb6",
   "metadata": {},
   "outputs": [],
   "source": [
    "df_.to_csv('ProductosMeli2.csv')"
   ]
  },
  {
   "cell_type": "code",
   "execution_count": null,
   "id": "3bb8334e",
   "metadata": {},
   "outputs": [],
   "source": []
  }
 ],
 "metadata": {
  "kernelspec": {
   "display_name": "Python 3.10 (XPython)",
   "language": "python",
   "name": "xpython"
  },
  "language_info": {
   "file_extension": ".py",
   "mimetype": "text/x-python",
   "name": "python",
   "version": "3.10.0"
  }
 },
 "nbformat": 4,
 "nbformat_minor": 5
}
