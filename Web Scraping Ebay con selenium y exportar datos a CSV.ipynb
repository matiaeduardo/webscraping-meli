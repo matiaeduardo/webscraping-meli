{
 "cells": [
  {
   "cell_type": "code",
   "execution_count": 1,
   "id": "436d04fa",
   "metadata": {},
   "outputs": [],
   "source": [
    "from selenium import webdriver\n",
    "from selenium.webdriver.common.keys import Keys\n",
    "from selenium.webdriver.common.by import By\n",
    "import os\n",
    "import time\n",
    "import pandas as pd"
   ]
  },
  {
   "cell_type": "code",
   "execution_count": 2,
   "id": "ff3bf012",
   "metadata": {},
   "outputs": [
    {
     "name": "stderr",
     "output_type": "stream",
     "text": [
      "C:\\Users\\matia\\AppData\\Local\\Temp\\ipykernel_9800\\1584116631.py:4: DeprecationWarning: executable_path has been deprecated, please pass in a Service object\n",
      "  driver=webdriver.Chrome(driver_path)\n"
     ]
    }
   ],
   "source": [
    "#webdriver\n",
    "ruta=os.getcwd()\n",
    "driver_path='{}/chromedriver.exe'.format(ruta)\n",
    "driver=webdriver.Chrome(driver_path)\n",
    "driver.get('https://ar.ebay.com/')"
   ]
  },
  {
   "cell_type": "code",
   "execution_count": 41,
   "id": "37e65542",
   "metadata": {},
   "outputs": [],
   "source": [
    "#buscar\n",
    "driver.find_element(By.XPATH,\"//input[@class='gh-tb ui-autocomplete-input']\").clear()\n",
    "time.sleep(2)\n",
    "driver.find_element(By.XPATH,\"//input[@placeholder='Buscar artículos']\").send_keys('televisor')\n",
    "driver.find_element(By.XPATH,\"//input[@value='Buscar']\").click()\n"
   ]
  },
  {
   "cell_type": "code",
   "execution_count": 39,
   "id": "e444d0ca",
   "metadata": {},
   "outputs": [],
   "source": [
    "nombres_list=[]\n",
    "precios_list=[]\n",
    "links_list=[]\n"
   ]
  },
  {
   "cell_type": "code",
   "execution_count": 42,
   "id": "05c49861",
   "metadata": {},
   "outputs": [
    {
     "ename": "ValueError",
     "evalue": "Sin resultados",
     "output_type": "error",
     "traceback": [
      "\u001b[1;31m---------------------------------------------------------------------------\u001b[0m",
      "\u001b[1;31mNoSuchElementException\u001b[0m                    Traceback (most recent call last)",
      "Input \u001b[1;32mIn [42]\u001b[0m, in \u001b[0;36m<module>\u001b[1;34m\u001b[0m\n\u001b[0;32m     15\u001b[0m \u001b[38;5;28;01mtry\u001b[39;00m:\n\u001b[0;32m     16\u001b[0m     \u001b[38;5;66;03m#next\u001b[39;00m\n\u001b[1;32m---> 17\u001b[0m     \u001b[43mdriver\u001b[49m\u001b[38;5;241;43m.\u001b[39;49m\u001b[43mfind_element\u001b[49m\u001b[43m(\u001b[49m\u001b[43mBy\u001b[49m\u001b[38;5;241;43m.\u001b[39;49m\u001b[43mXPATH\u001b[49m\u001b[43m,\u001b[49m\u001b[38;5;124;43m\"\u001b[39;49m\u001b[38;5;124;43m//a[@class=\u001b[39;49m\u001b[38;5;124;43m'\u001b[39;49m\u001b[38;5;124;43mpagination__next icon-link\u001b[39;49m\u001b[38;5;124;43m'\u001b[39;49m\u001b[38;5;124;43m]\u001b[39;49m\u001b[38;5;124;43m\"\u001b[39;49m\u001b[43m)\u001b[49m\u001b[38;5;241m.\u001b[39mclick()\n\u001b[0;32m     18\u001b[0m     time\u001b[38;5;241m.\u001b[39msleep(\u001b[38;5;241m2\u001b[39m)\n",
      "File \u001b[1;32m~\\AppData\\Local\\Programs\\Python\\Python310\\lib\\site-packages\\selenium\\webdriver\\remote\\webdriver.py:857\u001b[0m, in \u001b[0;36mWebDriver.find_element\u001b[1;34m(self, by, value)\u001b[0m\n\u001b[0;32m    855\u001b[0m     value \u001b[38;5;241m=\u001b[39m \u001b[38;5;124m'\u001b[39m\u001b[38;5;124m[name=\u001b[39m\u001b[38;5;124m\"\u001b[39m\u001b[38;5;132;01m%s\u001b[39;00m\u001b[38;5;124m\"\u001b[39m\u001b[38;5;124m]\u001b[39m\u001b[38;5;124m'\u001b[39m \u001b[38;5;241m%\u001b[39m value\n\u001b[1;32m--> 857\u001b[0m \u001b[38;5;28;01mreturn\u001b[39;00m \u001b[38;5;28;43mself\u001b[39;49m\u001b[38;5;241;43m.\u001b[39;49m\u001b[43mexecute\u001b[49m\u001b[43m(\u001b[49m\u001b[43mCommand\u001b[49m\u001b[38;5;241;43m.\u001b[39;49m\u001b[43mFIND_ELEMENT\u001b[49m\u001b[43m,\u001b[49m\u001b[43m \u001b[49m\u001b[43m{\u001b[49m\n\u001b[0;32m    858\u001b[0m \u001b[43m    \u001b[49m\u001b[38;5;124;43m'\u001b[39;49m\u001b[38;5;124;43musing\u001b[39;49m\u001b[38;5;124;43m'\u001b[39;49m\u001b[43m:\u001b[49m\u001b[43m \u001b[49m\u001b[43mby\u001b[49m\u001b[43m,\u001b[49m\n\u001b[0;32m    859\u001b[0m \u001b[43m    \u001b[49m\u001b[38;5;124;43m'\u001b[39;49m\u001b[38;5;124;43mvalue\u001b[39;49m\u001b[38;5;124;43m'\u001b[39;49m\u001b[43m:\u001b[49m\u001b[43m \u001b[49m\u001b[43mvalue\u001b[49m\u001b[43m}\u001b[49m\u001b[43m)\u001b[49m[\u001b[38;5;124m'\u001b[39m\u001b[38;5;124mvalue\u001b[39m\u001b[38;5;124m'\u001b[39m]\n",
      "File \u001b[1;32m~\\AppData\\Local\\Programs\\Python\\Python310\\lib\\site-packages\\selenium\\webdriver\\remote\\webdriver.py:435\u001b[0m, in \u001b[0;36mWebDriver.execute\u001b[1;34m(self, driver_command, params)\u001b[0m\n\u001b[0;32m    434\u001b[0m \u001b[38;5;28;01mif\u001b[39;00m response:\n\u001b[1;32m--> 435\u001b[0m     \u001b[38;5;28;43mself\u001b[39;49m\u001b[38;5;241;43m.\u001b[39;49m\u001b[43merror_handler\u001b[49m\u001b[38;5;241;43m.\u001b[39;49m\u001b[43mcheck_response\u001b[49m\u001b[43m(\u001b[49m\u001b[43mresponse\u001b[49m\u001b[43m)\u001b[49m\n\u001b[0;32m    436\u001b[0m     response[\u001b[38;5;124m'\u001b[39m\u001b[38;5;124mvalue\u001b[39m\u001b[38;5;124m'\u001b[39m] \u001b[38;5;241m=\u001b[39m \u001b[38;5;28mself\u001b[39m\u001b[38;5;241m.\u001b[39m_unwrap_value(\n\u001b[0;32m    437\u001b[0m         response\u001b[38;5;241m.\u001b[39mget(\u001b[38;5;124m'\u001b[39m\u001b[38;5;124mvalue\u001b[39m\u001b[38;5;124m'\u001b[39m, \u001b[38;5;28;01mNone\u001b[39;00m))\n",
      "File \u001b[1;32m~\\AppData\\Local\\Programs\\Python\\Python310\\lib\\site-packages\\selenium\\webdriver\\remote\\errorhandler.py:247\u001b[0m, in \u001b[0;36mErrorHandler.check_response\u001b[1;34m(self, response)\u001b[0m\n\u001b[0;32m    246\u001b[0m     \u001b[38;5;28;01mraise\u001b[39;00m exception_class(message, screen, stacktrace, alert_text)  \u001b[38;5;66;03m# type: ignore[call-arg]  # mypy is not smart enough here\u001b[39;00m\n\u001b[1;32m--> 247\u001b[0m \u001b[38;5;28;01mraise\u001b[39;00m exception_class(message, screen, stacktrace)\n",
      "\u001b[1;31mNoSuchElementException\u001b[0m: Message: no such element: Unable to locate element: {\"method\":\"xpath\",\"selector\":\"//a[@class='pagination__next icon-link']\"}\n  (Session info: chrome=106.0.5249.119)\nStacktrace:\nBacktrace:\n\tOrdinal0 [0x0103DF13+2219795]\n\tOrdinal0 [0x00FD2841+1779777]\n\tOrdinal0 [0x00EE423D+803389]\n\tOrdinal0 [0x00F13025+995365]\n\tOrdinal0 [0x00F131EB+995819]\n\tOrdinal0 [0x00F40F52+1183570]\n\tOrdinal0 [0x00F2E844+1108036]\n\tOrdinal0 [0x00F3F192+1175954]\n\tOrdinal0 [0x00F2E616+1107478]\n\tOrdinal0 [0x00F07F89+950153]\n\tOrdinal0 [0x00F08F56+954198]\n\tGetHandleVerifier [0x01332CB2+3040210]\n\tGetHandleVerifier [0x01322BB4+2974420]\n\tGetHandleVerifier [0x010D6A0A+565546]\n\tGetHandleVerifier [0x010D5680+560544]\n\tOrdinal0 [0x00FD9A5C+1808988]\n\tOrdinal0 [0x00FDE3A8+1827752]\n\tOrdinal0 [0x00FDE495+1827989]\n\tOrdinal0 [0x00FE80A4+1867940]\n\tBaseThreadInitThunk [0x7601FA29+25]\n\tRtlGetAppContainerNamedObjectPath [0x773A7BBE+286]\n\tRtlGetAppContainerNamedObjectPath [0x773A7B8E+238]\n",
      "\nDuring handling of the above exception, another exception occurred:\n",
      "\u001b[1;31mValueError\u001b[0m                                Traceback (most recent call last)",
      "Input \u001b[1;32mIn [42]\u001b[0m, in \u001b[0;36m<module>\u001b[1;34m\u001b[0m\n\u001b[0;32m     19\u001b[0m \u001b[38;5;28;01mexcept\u001b[39;00m:\n\u001b[1;32m---> 20\u001b[0m     \u001b[38;5;28;01mraise\u001b[39;00m \u001b[38;5;167;01mValueError\u001b[39;00m(\u001b[38;5;124m'\u001b[39m\u001b[38;5;124mNo hay mas para revisar\u001b[39m\u001b[38;5;124m'\u001b[39m)\n\u001b[0;32m     21\u001b[0m     \u001b[38;5;28;01mbreak\u001b[39;00m\n",
      "\u001b[1;31mValueError\u001b[0m: No hay mas para revisar",
      "\nDuring handling of the above exception, another exception occurred:\n",
      "\u001b[1;31mValueError\u001b[0m                                Traceback (most recent call last)",
      "Input \u001b[1;32mIn [42]\u001b[0m, in \u001b[0;36m<module>\u001b[1;34m\u001b[0m\n\u001b[0;32m     21\u001b[0m         \u001b[38;5;28;01mbreak\u001b[39;00m\n\u001b[0;32m     22\u001b[0m \u001b[38;5;28;01mexcept\u001b[39;00m:\n\u001b[1;32m---> 23\u001b[0m     \u001b[38;5;28;01mraise\u001b[39;00m \u001b[38;5;167;01mValueError\u001b[39;00m(\u001b[38;5;124m'\u001b[39m\u001b[38;5;124mSin resultados\u001b[39m\u001b[38;5;124m'\u001b[39m)\n\u001b[0;32m     24\u001b[0m     \u001b[38;5;28;01mbreak\u001b[39;00m\n",
      "\u001b[1;31mValueError\u001b[0m: Sin resultados"
     ]
    }
   ],
   "source": [
    "for i in range(4):\n",
    "    try:\n",
    "        #nombres\n",
    "        nombres=driver.find_elements(By.XPATH,\"//ul[@class='srp-results srp-list clearfix']/li/div/div[@class='s-item__info clearfix']/a/div/span\")\n",
    "        nombres=[i.text for i in nombres]\n",
    "        nombres_list.extend(nombres)\n",
    "        #precios\n",
    "        precios=driver.find_elements(By.XPATH,\"//ul[@class='srp-results srp-list clearfix']/li/div/div[@class='s-item__info clearfix']/div[@class='s-item__details clearfix']/div/span[@class='s-item__price']\")\n",
    "        precios=[j.text for j in precios]\n",
    "        precios_list.extend(precios)\n",
    "        #href\n",
    "        links=driver.find_elements(By.XPATH,\"//ul[@class='srp-results srp-list clearfix']/li/div/div[@class='s-item__info clearfix']/a[@class='s-item__link']\")\n",
    "        links=[k.get_attribute('href') for k in links]\n",
    "        links_list.extend(links)\n",
    "        try:\n",
    "            #next\n",
    "            driver.find_element(By.XPATH,\"//a[@class='pagination__next icon-link']\").click()\n",
    "            time.sleep(2)\n",
    "        except:\n",
    "            raise ValueError('No hay mas para revisar')\n",
    "            break\n",
    "    except:\n",
    "        raise ValueError('Sin resultados')\n",
    "        break"
   ]
  },
  {
   "cell_type": "code",
   "execution_count": 27,
   "id": "4b8a2075",
   "metadata": {},
   "outputs": [],
   "source": [
    "precios_list=precios_list[:240]"
   ]
  },
  {
   "cell_type": "code",
   "execution_count": 28,
   "id": "e233e0cd",
   "metadata": {},
   "outputs": [],
   "source": [
    "df=pd.DataFrame({'Producto':nombres_list,'Precios':precios_list,'Enlace':links_list})"
   ]
  },
  {
   "cell_type": "code",
   "execution_count": 30,
   "id": "eb1fd657",
   "metadata": {},
   "outputs": [],
   "source": [
    "df.to_csv('ProductosCSV.csv')"
   ]
  },
  {
   "cell_type": "code",
   "execution_count": null,
   "id": "c748e715",
   "metadata": {},
   "outputs": [],
   "source": []
  },
  {
   "cell_type": "code",
   "execution_count": null,
   "id": "803e5d13",
   "metadata": {},
   "outputs": [],
   "source": []
  }
 ],
 "metadata": {
  "kernelspec": {
   "display_name": "Python 3 (ipykernel)",
   "language": "python",
   "name": "python3"
  },
  "language_info": {
   "codemirror_mode": {
    "name": "ipython",
    "version": 3
   },
   "file_extension": ".py",
   "mimetype": "text/x-python",
   "name": "python",
   "nbconvert_exporter": "python",
   "pygments_lexer": "ipython3",
   "version": "3.10.1"
  }
 },
 "nbformat": 4,
 "nbformat_minor": 5
}
