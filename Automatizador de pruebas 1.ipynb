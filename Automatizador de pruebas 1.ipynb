{
 "cells": [
  {
   "cell_type": "code",
   "execution_count": 1,
   "id": "f2f51ab0",
   "metadata": {},
   "outputs": [],
   "source": [
    "from selenium import webdriver\n",
    "from selenium.webdriver.common.keys import Keys\n",
    "from selenium.webdriver.common.by import By\n",
    "import time"
   ]
  },
  {
   "cell_type": "code",
   "execution_count": 2,
   "id": "8522e7f2",
   "metadata": {},
   "outputs": [
    {
     "name": "stderr",
     "output_type": "stream",
     "text": [
      "C:\\Users\\matia\\AppData\\Local\\Temp\\ipykernel_13872\\2398372751.py:4: DeprecationWarning: executable_path has been deprecated, please pass in a Service object\n",
      "  driver=webdriver.Chrome(\"C:\\chromedriver.exe\")\n"
     ]
    }
   ],
   "source": [
    "#definir url\n",
    "url=\"https://www.utest.com/\"\n",
    "#definir driver\n",
    "driver=webdriver.Chrome(\"C:\\chromedriver.exe\")\n",
    "driver.get(url)"
   ]
  },
  {
   "cell_type": "code",
   "execution_count": 3,
   "id": "f01eb5ca",
   "metadata": {},
   "outputs": [],
   "source": [
    "#Formulario\n",
    "driver.find_element(By.XPATH,\"//a[@class='unauthenticated-nav-bar__sign-up']\").click()"
   ]
  },
  {
   "cell_type": "code",
   "execution_count": 19,
   "id": "177dcbb3",
   "metadata": {},
   "outputs": [],
   "source": [
    "#Entidad\n",
    "driver.find_element(By.XPATH,\"//input[@id='firstName']\").send_keys('Matias')\n",
    "driver.find_element(By.XPATH,\"//input[@id='lastName']\").send_keys('Eduardo')\n",
    "driver.find_element(By.XPATH,\"//input[@id='email']\").send_keys('matia@gmail.com')"
   ]
  },
  {
   "cell_type": "code",
   "execution_count": 18,
   "id": "2b3544f1",
   "metadata": {},
   "outputs": [],
   "source": [
    "#fechas\n",
    "driver.find_element(By.ID,'birthMonth').click()\n",
    "driver.find_element(By.XPATH,\"//option[@label='July']\").click()\n",
    "\n",
    "driver.find_element(By.ID,'birthDay').click()\n",
    "driver.find_element(By.XPATH,\"//option[@label='6']\").click()\n",
    "\n",
    "driver.find_element(By.NAME,\"birthYear\").click()\n",
    "driver.find_element(By.XPATH,\"//option[@label='1999']\").click()"
   ]
  },
  {
   "cell_type": "code",
   "execution_count": 20,
   "id": "24096572",
   "metadata": {},
   "outputs": [],
   "source": [
    "#next\n",
    "driver.find_element(By.XPATH,\"//a[@class='btn btn-blue']\").click()"
   ]
  },
  {
   "cell_type": "code",
   "execution_count": 23,
   "id": "f20686c2",
   "metadata": {},
   "outputs": [],
   "source": [
    "#ciudad !guardar en variable\n",
    "city=driver.find_element(By.ID,'city')\n",
    "city.send_keys('bue')\n",
    "time.sleep(1)\n",
    "city.send_keys(Keys.DOWN)\n",
    "city.send_keys(Keys.ENTER)"
   ]
  },
  {
   "cell_type": "code",
   "execution_count": 24,
   "id": "fdeb1e35",
   "metadata": {},
   "outputs": [],
   "source": [
    "#postal\n",
    "driver.find_element(By.ID,'zip').send_keys('4400')"
   ]
  },
  {
   "cell_type": "code",
   "execution_count": 30,
   "id": "6a6e7df6",
   "metadata": {},
   "outputs": [],
   "source": [
    "driver.find_element(By.XPATH,\"//input[@placeholder='Select a country']\").click()"
   ]
  },
  {
   "cell_type": "code",
   "execution_count": 27,
   "id": "aa65e42e",
   "metadata": {},
   "outputs": [],
   "source": [
    "#pais cambiar el placeholder ya que cambia al cargar\n",
    "driver.find_element(By.XPATH,\"//span[@class='ui-select-match-text pull-left']\").click()\n",
    "time.sleep(1)\n",
    "cou=driver.find_element(By.XPATH,\"//input[@placeholder='Select a country']\")\n",
    "cou.send_keys('argent')\n",
    "time.sleep(1)\n",
    "cou.send_keys(Keys.DOWN)\n",
    "cou.send_keys(Keys.ENTER)"
   ]
  },
  {
   "cell_type": "code",
   "execution_count": 28,
   "id": "9bbec3aa",
   "metadata": {},
   "outputs": [],
   "source": [
    "#next\n",
    "driver.find_element(By.XPATH,\"//a[@class='btn btn-blue pull-right']\").click()"
   ]
  },
  {
   "cell_type": "code",
   "execution_count": 29,
   "id": "c95b5ee7",
   "metadata": {},
   "outputs": [],
   "source": [
    "#movil device\n",
    "driver.find_element(By.XPATH,\"(//span[@class='btn btn-default form-control ui-select-toggle'])[4]\").click()\n",
    "time.sleep(3)\n",
    "driver.find_element(By.XPATH,\"//input[@placeholder='Select Brand']\").send_keys('Apple')\n",
    "driver.find_element(By.XPATH,\"//span[@class='ui-select-highlight']\").click()"
   ]
  },
  {
   "cell_type": "code",
   "execution_count": 31,
   "id": "5375e400",
   "metadata": {},
   "outputs": [],
   "source": [
    "#model\n",
    "driver.find_element(By.XPATH,\"(//span[@class='btn btn-default form-control ui-select-toggle'])[5]\").click()\n",
    "time.sleep(2)\n",
    "mo=driver.find_element(By.XPATH,\"//input[@placeholder='Select a Model']\")\n",
    "mo.send_keys('iPhone 14')\n",
    "#mo.send_keys(Keys.DOWN)\n",
    "mo.send_keys(Keys.ENTER)\n",
    "#driver.find_element(By.XPATH,\"(//span[@class='ui-select-highlight'])[1]\").click()"
   ]
  },
  {
   "cell_type": "code",
   "execution_count": 32,
   "id": "6d4df2c4",
   "metadata": {},
   "outputs": [],
   "source": [
    "#OS\n",
    "os=driver.find_element(By.XPATH,\"(//span[@class='btn btn-default form-control ui-select-toggle'])[6]\").click()\n",
    "driver.find_element(By.XPATH,\"(//input[@placeholder='Select OS'])[2]\").send_keys('ios 16.0')\n",
    "driver.find_element(By.XPATH,\"(//span[@class='ui-select-highlight'])[1]\").click()"
   ]
  },
  {
   "cell_type": "code",
   "execution_count": 33,
   "id": "37bd03ca",
   "metadata": {},
   "outputs": [],
   "source": [
    "#next\n",
    "driver.find_element(By.XPATH,\"//a[@class='btn btn-blue pull-right']\").click()"
   ]
  },
  {
   "cell_type": "code",
   "execution_count": 47,
   "id": "cd4b87db",
   "metadata": {},
   "outputs": [],
   "source": [
    "#password\n",
    "contra='C$u2Wa3b2wlmhHaRHtg3yGp85*L'\n",
    "driver.find_element(By.ID,'password').send_keys(contra)\n",
    "driver.find_element(By.ID,'confirmPassword').send_keys(contra)"
   ]
  },
  {
   "cell_type": "code",
   "execution_count": 63,
   "id": "d6a5728c",
   "metadata": {},
   "outputs": [],
   "source": [
    "#check\n",
    "a=driver.find_element(By.XPATH,\"//span[@class='checkmark signup-consent__checkbox signup-consent__checkbox--highlight']\").click()\n",
    "b=driver.find_element(By.XPATH,\"(//span[@class='checkmark signup-consent__checkbox error'])[1]\").click()\n",
    "c=driver.find_element(By.XPATH,\"//span[@class='checkmark signup-consent__checkbox error']\").click()"
   ]
  },
  {
   "cell_type": "code",
   "execution_count": 65,
   "id": "991b66ff",
   "metadata": {},
   "outputs": [],
   "source": [
    "#next\n",
    "driver.find_element(By.XPATH,\"//a[@class='btn btn-blue']\").click()"
   ]
  },
  {
   "cell_type": "code",
   "execution_count": 66,
   "id": "53a5bd79",
   "metadata": {},
   "outputs": [],
   "source": [
    "#automatizarlo en vsc"
   ]
  },
  {
   "cell_type": "code",
   "execution_count": null,
   "id": "e89f843e",
   "metadata": {},
   "outputs": [],
   "source": []
  },
  {
   "cell_type": "code",
   "execution_count": null,
   "id": "8a2bdb8c",
   "metadata": {},
   "outputs": [],
   "source": []
  }
 ],
 "metadata": {
  "kernelspec": {
   "display_name": "Python 3 (ipykernel)",
   "language": "python",
   "name": "python3"
  },
  "language_info": {
   "codemirror_mode": {
    "name": "ipython",
    "version": 3
   },
   "file_extension": ".py",
   "mimetype": "text/x-python",
   "name": "python",
   "nbconvert_exporter": "python",
   "pygments_lexer": "ipython3",
   "version": "3.10.1"
  }
 },
 "nbformat": 4,
 "nbformat_minor": 5
}
