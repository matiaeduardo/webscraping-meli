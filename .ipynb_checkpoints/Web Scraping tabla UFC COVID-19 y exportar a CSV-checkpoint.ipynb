{
 "cells": [
  {
   "cell_type": "code",
   "execution_count": 1,
   "id": "ac319bf4",
   "metadata": {},
   "outputs": [],
   "source": [
    "from bs4 import BeautifulSoup as bs\n",
    "import requests\n",
    "import pandas as pd"
   ]
  },
  {
   "cell_type": "code",
   "execution_count": 8,
   "id": "d83a9686",
   "metadata": {},
   "outputs": [],
   "source": [
    "#definir la url\n",
    "url='https://www.bloodyelbow.com/22198483/comprehensive-list-of-ufc-fighters-who-have-tested-positive-for-covid-19'\n",
    "r=requests.get(url)"
   ]
  },
  {
   "cell_type": "code",
   "execution_count": 11,
   "id": "40d74c17",
   "metadata": {},
   "outputs": [],
   "source": [
    "#convertir r en sopa\n",
    "soup=bs(r.content,'html.parser')"
   ]
  },
  {
   "cell_type": "code",
   "execution_count": 17,
   "id": "68fc8746",
   "metadata": {},
   "outputs": [],
   "source": [
    "rows=soup.find('table',attrs={'class':'p-data-table'}).find_all('tr')"
   ]
  },
  {
   "cell_type": "code",
   "execution_count": 24,
   "id": "b8452cdc",
   "metadata": {},
   "outputs": [
    {
     "data": {
      "text/plain": [
       "<tr>\n",
       "<td>Marlon Moraes</td>\n",
       "<td>2/22/2022</td>\n",
       "<td>UFC Fight NIght 203</td>\n",
       "<td>3/12/2022</td>\n",
       "<td>Song Yadong</td>\n",
       "<td>Fight not changed</td>\n",
       "<td></td>\n",
       "<td></td>\n",
       "</tr>"
      ]
     },
     "execution_count": 24,
     "metadata": {},
     "output_type": "execute_result"
    }
   ],
   "source": [
    "rows[2].\n"
   ]
  },
  {
   "cell_type": "code",
   "execution_count": null,
   "id": "1b8c08a2",
   "metadata": {},
   "outputs": [],
   "source": []
  },
  {
   "cell_type": "code",
   "execution_count": null,
   "id": "848c0209",
   "metadata": {},
   "outputs": [],
   "source": []
  }
 ],
 "metadata": {
  "kernelspec": {
   "display_name": "Python 3 (ipykernel)",
   "language": "python",
   "name": "python3"
  },
  "language_info": {
   "codemirror_mode": {
    "name": "ipython",
    "version": 3
   },
   "file_extension": ".py",
   "mimetype": "text/x-python",
   "name": "python",
   "nbconvert_exporter": "python",
   "pygments_lexer": "ipython3",
   "version": "3.10.1"
  }
 },
 "nbformat": 4,
 "nbformat_minor": 5
}
