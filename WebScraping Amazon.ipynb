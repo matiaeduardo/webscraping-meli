{
 "cells": [
  {
   "cell_type": "code",
   "execution_count": 1,
   "id": "237e5cff",
   "metadata": {},
   "outputs": [],
   "source": [
    "from bs4 import BeautifulSoup as bs\n",
    "import requests\n",
    "from lxml import etree"
   ]
  },
  {
   "cell_type": "code",
   "execution_count": 12,
   "id": "4812877c",
   "metadata": {},
   "outputs": [],
   "source": [
    "url='https://listado.mercadolibre.com.ar/apple'\n",
    "r=requests.get(url)"
   ]
  },
  {
   "cell_type": "code",
   "execution_count": 13,
   "id": "7d096e85",
   "metadata": {},
   "outputs": [
    {
     "data": {
      "text/plain": [
       "200"
      ]
     },
     "execution_count": 13,
     "metadata": {},
     "output_type": "execute_result"
    }
   ],
   "source": [
    "r.status_code"
   ]
  },
  {
   "cell_type": "code",
   "execution_count": 14,
   "id": "3e9863f8",
   "metadata": {},
   "outputs": [],
   "source": [
    "sopa=bs(r.content,'html.parser')"
   ]
  },
  {
   "cell_type": "code",
   "execution_count": 15,
   "id": "02eec94d",
   "metadata": {},
   "outputs": [],
   "source": [
    "nombres=sopa.find_all('h2',attrs={'class':'ui-search-item__title shops__item-title'})\n",
    "nombres=[i.text for i in nombres]"
   ]
  },
  {
   "cell_type": "code",
   "execution_count": 16,
   "id": "72770ef8",
   "metadata": {},
   "outputs": [],
   "source": [
    "links=sopa.find_all('a',attrs={'class':'ui-search-item__group__element shops__items-group-details ui-search-link'})\n",
    "links=[i.get('href') for i in links]"
   ]
  },
  {
   "cell_type": "code",
   "execution_count": 23,
   "id": "02917730",
   "metadata": {},
   "outputs": [],
   "source": [
    "dom=etree.HTML(str(sopa))\n",
    "precios=dom.xpath(\"//div[@class='ui-search-price ui-search-price--size-medium shops__price']//div[@class='ui-search-price__second-line shops__price-second-line']//span[@class='price-tag-fraction']\")\n",
    "precios=[i.text for i in precios]"
   ]
  },
  {
   "cell_type": "code",
   "execution_count": 30,
   "id": "2e2a0405",
   "metadata": {},
   "outputs": [],
   "source": [
    "sig=dom.xpath(\"//div[@class='ui-search-pagination shops__pagination-content']/ul/li[contains(@class,'--next')]/a\")[0].get('href')"
   ]
  },
  {
   "cell_type": "code",
   "execution_count": 68,
   "id": "a85c9b69",
   "metadata": {},
   "outputs": [],
   "source": [
    "ind=dom.xpath(\"//div[@class='ui-search-pagination shops__pagination-content']/ul/li/span\")[0].text\n",
    "ind=int(ind)"
   ]
  },
  {
   "cell_type": "code",
   "execution_count": 83,
   "id": "90fed059",
   "metadata": {},
   "outputs": [
    {
     "data": {
      "text/plain": [
       "40"
      ]
     },
     "execution_count": 83,
     "metadata": {},
     "output_type": "execute_result"
    }
   ],
   "source": [
    "ind2=sopa.find('li', attrs={'class':'andes-pagination__page-count'})\n",
    "ind2=int(ind2.text.split(' ')[1])\n",
    "ind2"
   ]
  },
  {
   "cell_type": "code",
   "execution_count": 93,
   "id": "beafef57",
   "metadata": {},
   "outputs": [
    {
     "ename": "ValueError",
     "evalue": "404",
     "output_type": "error",
     "traceback": [
      "\u001b[1;31m---------------------------------------------------------------------------\u001b[0m",
      "\u001b[1;31mValueError\u001b[0m                                Traceback (most recent call last)",
      "\u001b[1;32m~\\AppData\\Local\\Temp\\ipykernel_11504\\4082380579.py\u001b[0m in \u001b[0;36m<module>\u001b[1;34m\u001b[0m\n\u001b[0;32m     26\u001b[0m         \u001b[0mind2\u001b[0m\u001b[1;33m=\u001b[0m\u001b[0mint\u001b[0m\u001b[1;33m(\u001b[0m\u001b[0mind2\u001b[0m\u001b[1;33m.\u001b[0m\u001b[0mtext\u001b[0m\u001b[1;33m.\u001b[0m\u001b[0msplit\u001b[0m\u001b[1;33m(\u001b[0m\u001b[1;34m' '\u001b[0m\u001b[1;33m)\u001b[0m\u001b[1;33m[\u001b[0m\u001b[1;36m1\u001b[0m\u001b[1;33m]\u001b[0m\u001b[1;33m)\u001b[0m\u001b[1;33m\u001b[0m\u001b[1;33m\u001b[0m\u001b[0m\n\u001b[0;32m     27\u001b[0m     \u001b[1;32melse\u001b[0m\u001b[1;33m:\u001b[0m\u001b[1;33m\u001b[0m\u001b[1;33m\u001b[0m\u001b[0m\n\u001b[1;32m---> 28\u001b[1;33m         \u001b[1;32mraise\u001b[0m \u001b[0mValueError\u001b[0m\u001b[1;33m(\u001b[0m\u001b[0mr\u001b[0m\u001b[1;33m.\u001b[0m\u001b[0mstatus_code\u001b[0m\u001b[1;33m)\u001b[0m\u001b[1;33m\u001b[0m\u001b[1;33m\u001b[0m\u001b[0m\n\u001b[0m\u001b[0;32m     29\u001b[0m         \u001b[1;32mbreak\u001b[0m\u001b[1;33m\u001b[0m\u001b[1;33m\u001b[0m\u001b[0m\n\u001b[0;32m     30\u001b[0m     \u001b[0mprint\u001b[0m\u001b[1;33m(\u001b[0m\u001b[0mind\u001b[0m\u001b[1;33m,\u001b[0m \u001b[0mind2\u001b[0m\u001b[1;33m)\u001b[0m\u001b[1;33m\u001b[0m\u001b[1;33m\u001b[0m\u001b[0m\n",
      "\u001b[1;31mValueError\u001b[0m: 404"
     ]
    }
   ],
   "source": [
    "l_nm=[]\n",
    "l_lk=[]\n",
    "l_pc=[]\n",
    "sig='https://listado.mercadolibre.com.ar/applsdasde'\n",
    "while True:\n",
    "    r=requests.get(sig)\n",
    "    if r.status_code == 200:\n",
    "        sopa=bs(r.content,'html.parser')\n",
    "        \n",
    "        nombres=sopa.find_all('h2',attrs={'class':'ui-search-item__title shops__item-title'})\n",
    "        nombres=[i.text for i in nombres]\n",
    "        l_nm.extend(nombres)\n",
    "        \n",
    "        links=sopa.find_all('a',attrs={'class':'ui-search-item__group__element shops__items-group-details ui-search-link'})\n",
    "        links=[i.get('href') for i in links]\n",
    "        l_lk.extend(links)\n",
    "        \n",
    "        dom=etree.HTML(str(sopa))\n",
    "        precios=dom.xpath(\"//div[@class='ui-search-price ui-search-price--size-medium shops__price']//div[@class='ui-search-price__second-line shops__price-second-line']//span[@class='price-tag-fraction']\")\n",
    "        precios=[i.text for i in precios]\n",
    "        l_pc.extend(precios)\n",
    "        \n",
    "        ind=dom.xpath(\"//div[@class='ui-search-pagination shops__pagination-content']/ul/li/span\")[0].text\n",
    "        ind=int(ind)\n",
    "        ind2=sopa.find('li', attrs={'class':'andes-pagination__page-count'})\n",
    "        ind2=int(ind2.text.split(' ')[1])\n",
    "    else:\n",
    "        raise ValueError(r.status_code)\n",
    "        break\n",
    "    print(ind, ind2)\n",
    "    if ind == ind2:\n",
    "        break\n",
    "    else:\n",
    "        sig=dom.xpath(\"//div[@class='ui-search-pagination shops__pagination-content']/ul/li[contains(@class,'--next')]/a\")[0].get('href')\n",
    "        "
   ]
  },
  {
   "cell_type": "code",
   "execution_count": null,
   "id": "73287631",
   "metadata": {},
   "outputs": [],
   "source": []
  },
  {
   "cell_type": "code",
   "execution_count": null,
   "id": "167e91db",
   "metadata": {},
   "outputs": [],
   "source": []
  },
  {
   "cell_type": "code",
   "execution_count": null,
   "id": "2ad42dff",
   "metadata": {},
   "outputs": [],
   "source": []
  }
 ],
 "metadata": {
  "kernelspec": {
   "display_name": "Python 3 (ipykernel)",
   "language": "python",
   "name": "python3"
  },
  "language_info": {
   "codemirror_mode": {
    "name": "ipython",
    "version": 3
   },
   "file_extension": ".py",
   "mimetype": "text/x-python",
   "name": "python",
   "nbconvert_exporter": "python",
   "pygments_lexer": "ipython3",
   "version": "3.10.1"
  }
 },
 "nbformat": 4,
 "nbformat_minor": 5
}
