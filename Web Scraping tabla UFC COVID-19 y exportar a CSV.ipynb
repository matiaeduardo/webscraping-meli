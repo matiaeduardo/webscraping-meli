{
 "cells": [
  {
   "cell_type": "code",
   "execution_count": 24,
   "id": "ac319bf4",
   "metadata": {},
   "outputs": [],
   "source": [
    "from bs4 import BeautifulSoup as bs\n",
    "import requests\n",
    "import pandas as pd"
   ]
  },
  {
   "cell_type": "code",
   "execution_count": 25,
   "id": "d83a9686",
   "metadata": {},
   "outputs": [],
   "source": [
    "#definir la url\n",
    "url='https://www.bloodyelbow.com/22198483/comprehensive-list-of-ufc-fighters-who-have-tested-positive-for-covid-19'\n",
    "r=requests.get(url)"
   ]
  },
  {
   "cell_type": "code",
   "execution_count": 26,
   "id": "40d74c17",
   "metadata": {},
   "outputs": [],
   "source": [
    "#convertir r en sopa\n",
    "soup=bs(r.content,'html.parser')"
   ]
  },
  {
   "cell_type": "code",
   "execution_count": 44,
   "id": "68fc8746",
   "metadata": {},
   "outputs": [],
   "source": [
    "#entrar por cada etiqueta\n",
    "rows=soup.find('table',attrs={'class':'p-data-table'}).find('tbody').find_all('tr')"
   ]
  },
  {
   "cell_type": "code",
   "execution_count": 53,
   "id": "b8452cdc",
   "metadata": {},
   "outputs": [],
   "source": [
    "names=[]\n",
    "report=[]\n",
    "card=[]\n",
    "card_date=[]\n",
    "opponent=[]\n",
    "resolution=[]\n",
    "next_appearance=[]\n",
    "notes=[]\n",
    "for row in rows:\n",
    "    names.append(row.find_all('td')[0].get_text())\n",
    "    report.append(row.find_all('td')[1].get_text())\n",
    "    card.append(row.find_all('td')[2].get_text())\n",
    "    card_date.append(row.find_all('td')[3].get_text())\n",
    "    opponent.append(row.find_all('td')[4].get_text())\n",
    "    resolution.append(row.find_all('td')[5].get_text())\n",
    "    next_appearance.append(row.find_all('td')[6].get_text())\n",
    "    notes.append(row.find_all('td')[7].get_text())"
   ]
  },
  {
   "cell_type": "code",
   "execution_count": 61,
   "id": "1b8c08a2",
   "metadata": {},
   "outputs": [],
   "source": [
    "#xport \n",
    "df=pd.DataFrame({'Fighter':names,'Report':report,'Card':card,'Card Date':card_date,\n",
    "                              'Opponent':opponent,'Resolution':resolution,'Next Apparence':next_appearance,\n",
    "                             'Notes':notes})"
   ]
  },
  {
   "cell_type": "code",
   "execution_count": 63,
   "id": "848c0209",
   "metadata": {},
   "outputs": [],
   "source": [
    "df.to_csv('UFCcovid.csv')\n"
   ]
  },
  {
   "cell_type": "code",
   "execution_count": null,
   "id": "8305a605",
   "metadata": {},
   "outputs": [],
   "source": [
    "fighterCOVID_CSV"
   ]
  },
  {
   "cell_type": "code",
   "execution_count": null,
   "id": "2143dee4",
   "metadata": {},
   "outputs": [],
   "source": []
  },
  {
   "cell_type": "code",
   "execution_count": null,
   "id": "08857522",
   "metadata": {},
   "outputs": [],
   "source": []
  },
  {
   "cell_type": "code",
   "execution_count": null,
   "id": "d3c126d5",
   "metadata": {},
   "outputs": [],
   "source": []
  }
 ],
 "metadata": {
  "kernelspec": {
   "display_name": "Python 3 (ipykernel)",
   "language": "python",
   "name": "python3"
  },
  "language_info": {
   "codemirror_mode": {
    "name": "ipython",
    "version": 3
   },
   "file_extension": ".py",
   "mimetype": "text/x-python",
   "name": "python",
   "nbconvert_exporter": "python",
   "pygments_lexer": "ipython3",
   "version": "3.10.1"
  }
 },
 "nbformat": 4,
 "nbformat_minor": 5
}
